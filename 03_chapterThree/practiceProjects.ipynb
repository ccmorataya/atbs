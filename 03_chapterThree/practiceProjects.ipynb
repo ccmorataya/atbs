{
 "cells": [
  {
   "cell_type": "markdown",
   "metadata": {},
   "source": [
    "# The collatz sequence"
   ]
  },
  {
   "cell_type": "code",
   "execution_count": 5,
   "metadata": {},
   "outputs": [],
   "source": [
    "def collatz(number):\n",
    "    if (number % 2 == 0):      # even number\n",
    "        number = number // 2\n",
    "    elif (number % 2 == 1):    # odd number\n",
    "        number = (number * 3) + 1\n",
    "    print(number)\n",
    "    return number"
   ]
  },
  {
   "cell_type": "code",
   "execution_count": 8,
   "metadata": {},
   "outputs": [
    {
     "name": "stdout",
     "output_type": "stream",
     "text": [
      "Type a number: \n",
      "3\n",
      "10\n",
      "5\n",
      "16\n",
      "8\n",
      "4\n",
      "2\n",
      "1\n"
     ]
    }
   ],
   "source": [
    "# collatz.py\n",
    "# from IPython.core.debugger import set_trace as bp\n",
    "\n",
    "print('Type a number: ')\n",
    "number = int(input())\n",
    "while number > 1:\n",
    "#     bp()\n",
    "    number = collatz(number)"
   ]
  },
  {
   "cell_type": "code",
   "execution_count": 9,
   "metadata": {},
   "outputs": [
    {
     "name": "stdout",
     "output_type": "stream",
     "text": [
      "Type a number: \n",
      "a\n",
      "Are you kidding I can't handle that.\n"
     ]
    }
   ],
   "source": [
    "print('Type a number: ')\n",
    "try:\n",
    "    number = int(input())\n",
    "    while number > 1:\n",
    "        number = collatz(number)\n",
    "except ValueError:\n",
    "    print('Are you kidding I can\\'t handle that.')"
   ]
  }
 ],
 "metadata": {
  "kernelspec": {
   "display_name": "Python 3",
   "language": "python",
   "name": "python3"
  },
  "language_info": {
   "codemirror_mode": {
    "name": "ipython",
    "version": 3
   },
   "file_extension": ".py",
   "mimetype": "text/x-python",
   "name": "python",
   "nbconvert_exporter": "python",
   "pygments_lexer": "ipython3",
   "version": "3.7.1"
  }
 },
 "nbformat": 4,
 "nbformat_minor": 2
}
